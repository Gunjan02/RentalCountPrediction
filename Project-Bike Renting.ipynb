{
 "cells": [
  {
   "cell_type": "code",
   "execution_count": 1,
   "metadata": {},
   "outputs": [
    {
     "data": {
      "text/plain": [
       "'Problem statement :  The objective of this case is to predict bike rental count on daily based on the\\nenvironmental and seasonal settings.This problem statement lies in the category of forecasting which deals with\\npredicting continuous value for future(in our case the continuous value is the bike rental count.)'"
      ]
     },
     "execution_count": 1,
     "metadata": {},
     "output_type": "execute_result"
    }
   ],
   "source": [
    "'''Problem statement :  The objective of this case is to predict bike rental count on daily based on the\n",
    "environmental and seasonal settings.This problem statement lies in the category of forecasting which deals with\n",
    "predicting continuous value for future(in our case the continuous value is the bike rental count.)'''"
   ]
  },
  {
   "cell_type": "code",
   "execution_count": 2,
   "metadata": {},
   "outputs": [],
   "source": [
    "import pandas as pd\n",
    "import numpy as np\n",
    "import matplotlib.pyplot as plt\n",
    "import seaborn as sns\n",
    "from sklearn.model_selection import train_test_split\n",
    "import statsmodels.api as sm\n",
    "from sklearn.tree import DecisionTreeRegressor\n",
    "from sklearn.preprocessing import StandardScaler\n",
    "from sklearn.preprocessing import MinMaxScaler\n",
    "from sklearn.ensemble import RandomForestRegressor\n",
    "from sklearn import metrics\n",
    "from math import sqrt\n",
    "from sklearn import neighbors\n",
    "from sklearn.metrics import mean_squared_error \n",
    "from IPython import get_ipython"
   ]
  },
  {
   "cell_type": "code",
   "execution_count": 3,
   "metadata": {},
   "outputs": [
    {
     "data": {
      "text/html": [
       "<div>\n",
       "<style scoped>\n",
       "    .dataframe tbody tr th:only-of-type {\n",
       "        vertical-align: middle;\n",
       "    }\n",
       "\n",
       "    .dataframe tbody tr th {\n",
       "        vertical-align: top;\n",
       "    }\n",
       "\n",
       "    .dataframe thead th {\n",
       "        text-align: right;\n",
       "    }\n",
       "</style>\n",
       "<table border=\"1\" class=\"dataframe\">\n",
       "  <thead>\n",
       "    <tr style=\"text-align: right;\">\n",
       "      <th></th>\n",
       "      <th>instant</th>\n",
       "      <th>dteday</th>\n",
       "      <th>season</th>\n",
       "      <th>yr</th>\n",
       "      <th>mnth</th>\n",
       "      <th>holiday</th>\n",
       "      <th>weekday</th>\n",
       "      <th>workingday</th>\n",
       "      <th>weathersit</th>\n",
       "      <th>temp</th>\n",
       "      <th>atemp</th>\n",
       "      <th>hum</th>\n",
       "      <th>windspeed</th>\n",
       "      <th>casual</th>\n",
       "      <th>registered</th>\n",
       "      <th>cnt</th>\n",
       "    </tr>\n",
       "  </thead>\n",
       "  <tbody>\n",
       "    <tr>\n",
       "      <th>0</th>\n",
       "      <td>1</td>\n",
       "      <td>2011-01-01</td>\n",
       "      <td>1</td>\n",
       "      <td>0</td>\n",
       "      <td>1</td>\n",
       "      <td>0</td>\n",
       "      <td>6</td>\n",
       "      <td>0</td>\n",
       "      <td>2</td>\n",
       "      <td>0.344167</td>\n",
       "      <td>0.363625</td>\n",
       "      <td>0.805833</td>\n",
       "      <td>0.160446</td>\n",
       "      <td>331</td>\n",
       "      <td>654</td>\n",
       "      <td>985</td>\n",
       "    </tr>\n",
       "    <tr>\n",
       "      <th>1</th>\n",
       "      <td>2</td>\n",
       "      <td>2011-01-02</td>\n",
       "      <td>1</td>\n",
       "      <td>0</td>\n",
       "      <td>1</td>\n",
       "      <td>0</td>\n",
       "      <td>0</td>\n",
       "      <td>0</td>\n",
       "      <td>2</td>\n",
       "      <td>0.363478</td>\n",
       "      <td>0.353739</td>\n",
       "      <td>0.696087</td>\n",
       "      <td>0.248539</td>\n",
       "      <td>131</td>\n",
       "      <td>670</td>\n",
       "      <td>801</td>\n",
       "    </tr>\n",
       "    <tr>\n",
       "      <th>2</th>\n",
       "      <td>3</td>\n",
       "      <td>2011-01-03</td>\n",
       "      <td>1</td>\n",
       "      <td>0</td>\n",
       "      <td>1</td>\n",
       "      <td>0</td>\n",
       "      <td>1</td>\n",
       "      <td>1</td>\n",
       "      <td>1</td>\n",
       "      <td>0.196364</td>\n",
       "      <td>0.189405</td>\n",
       "      <td>0.437273</td>\n",
       "      <td>0.248309</td>\n",
       "      <td>120</td>\n",
       "      <td>1229</td>\n",
       "      <td>1349</td>\n",
       "    </tr>\n",
       "    <tr>\n",
       "      <th>3</th>\n",
       "      <td>4</td>\n",
       "      <td>2011-01-04</td>\n",
       "      <td>1</td>\n",
       "      <td>0</td>\n",
       "      <td>1</td>\n",
       "      <td>0</td>\n",
       "      <td>2</td>\n",
       "      <td>1</td>\n",
       "      <td>1</td>\n",
       "      <td>0.200000</td>\n",
       "      <td>0.212122</td>\n",
       "      <td>0.590435</td>\n",
       "      <td>0.160296</td>\n",
       "      <td>108</td>\n",
       "      <td>1454</td>\n",
       "      <td>1562</td>\n",
       "    </tr>\n",
       "    <tr>\n",
       "      <th>4</th>\n",
       "      <td>5</td>\n",
       "      <td>2011-01-05</td>\n",
       "      <td>1</td>\n",
       "      <td>0</td>\n",
       "      <td>1</td>\n",
       "      <td>0</td>\n",
       "      <td>3</td>\n",
       "      <td>1</td>\n",
       "      <td>1</td>\n",
       "      <td>0.226957</td>\n",
       "      <td>0.229270</td>\n",
       "      <td>0.436957</td>\n",
       "      <td>0.186900</td>\n",
       "      <td>82</td>\n",
       "      <td>1518</td>\n",
       "      <td>1600</td>\n",
       "    </tr>\n",
       "  </tbody>\n",
       "</table>\n",
       "</div>"
      ],
      "text/plain": [
       "   instant      dteday  season  yr  mnth  holiday  weekday  workingday  \\\n",
       "0        1  2011-01-01       1   0     1        0        6           0   \n",
       "1        2  2011-01-02       1   0     1        0        0           0   \n",
       "2        3  2011-01-03       1   0     1        0        1           1   \n",
       "3        4  2011-01-04       1   0     1        0        2           1   \n",
       "4        5  2011-01-05       1   0     1        0        3           1   \n",
       "\n",
       "   weathersit      temp     atemp       hum  windspeed  casual  registered  \\\n",
       "0           2  0.344167  0.363625  0.805833   0.160446     331         654   \n",
       "1           2  0.363478  0.353739  0.696087   0.248539     131         670   \n",
       "2           1  0.196364  0.189405  0.437273   0.248309     120        1229   \n",
       "3           1  0.200000  0.212122  0.590435   0.160296     108        1454   \n",
       "4           1  0.226957  0.229270  0.436957   0.186900      82        1518   \n",
       "\n",
       "    cnt  \n",
       "0   985  \n",
       "1   801  \n",
       "2  1349  \n",
       "3  1562  \n",
       "4  1600  "
      ]
     },
     "execution_count": 3,
     "metadata": {},
     "output_type": "execute_result"
    }
   ],
   "source": [
    "bike_df = pd.read_csv('day.csv')\n",
    "bike_df.head()"
   ]
  },
  {
   "cell_type": "code",
   "execution_count": 4,
   "metadata": {},
   "outputs": [
    {
     "name": "stdout",
     "output_type": "stream",
     "text": [
      "3    188\n",
      "2    184\n",
      "1    181\n",
      "4    178\n",
      "Name: season, dtype: int64\n",
      "1    366\n",
      "0    365\n",
      "Name: yr, dtype: int64\n",
      "12    62\n",
      "10    62\n",
      "8     62\n",
      "7     62\n",
      "5     62\n",
      "3     62\n",
      "1     62\n",
      "11    60\n",
      "9     60\n",
      "6     60\n",
      "4     60\n",
      "2     57\n",
      "Name: mnth, dtype: int64\n",
      "0    710\n",
      "1     21\n",
      "Name: holiday, dtype: int64\n",
      "6    105\n",
      "1    105\n",
      "0    105\n",
      "5    104\n",
      "4    104\n",
      "3    104\n",
      "2    104\n",
      "Name: weekday, dtype: int64\n",
      "1    500\n",
      "0    231\n",
      "Name: workingday, dtype: int64\n",
      "1    463\n",
      "2    247\n",
      "3     21\n",
      "Name: weathersit, dtype: int64\n"
     ]
    }
   ],
   "source": [
    "print(bike_df['season'].value_counts())\n",
    "print(bike_df['yr'].value_counts())\n",
    "print(bike_df['mnth'].value_counts())\n",
    "print(bike_df['holiday'].value_counts())\n",
    "print(bike_df['weekday'].value_counts())\n",
    "print(bike_df['workingday'].value_counts())\n",
    "print(bike_df['weathersit'].value_counts())"
   ]
  },
  {
   "cell_type": "code",
   "execution_count": 5,
   "metadata": {},
   "outputs": [
    {
     "data": {
      "text/plain": [
       "(731, 12)"
      ]
     },
     "execution_count": 5,
     "metadata": {},
     "output_type": "execute_result"
    }
   ],
   "source": [
    "#removing irrelevant attributes, instant because already we have the index, causal+registered=count so no need to keep redundant\n",
    "#values and we already have variable workingday so no need to keep holiday\n",
    "del bike_df['instant']\n",
    "del bike_df['casual']\n",
    "del bike_df['registered']\n",
    "del bike_df['holiday']\n",
    "bike_df.shape"
   ]
  },
  {
   "cell_type": "code",
   "execution_count": 6,
   "metadata": {},
   "outputs": [
    {
     "data": {
      "text/plain": [
       "dteday         object\n",
       "season          int64\n",
       "yr              int64\n",
       "mnth            int64\n",
       "weekday         int64\n",
       "workingday      int64\n",
       "weathersit      int64\n",
       "temp          float64\n",
       "atemp         float64\n",
       "hum           float64\n",
       "windspeed     float64\n",
       "cnt             int64\n",
       "dtype: object"
      ]
     },
     "execution_count": 6,
     "metadata": {},
     "output_type": "execute_result"
    }
   ],
   "source": [
    "bike_df.dtypes"
   ]
  },
  {
   "cell_type": "code",
   "execution_count": 7,
   "metadata": {},
   "outputs": [
    {
     "data": {
      "text/plain": [
       "season        category\n",
       "yr            category\n",
       "mnth          category\n",
       "weekday       category\n",
       "workingday    category\n",
       "weathersit    category\n",
       "temp           float64\n",
       "atemp          float64\n",
       "hum            float64\n",
       "windspeed      float64\n",
       "cnt            float64\n",
       "dtype: object"
      ]
     },
     "execution_count": 7,
     "metadata": {},
     "output_type": "execute_result"
    }
   ],
   "source": [
    "#Removing date as we already have month,weekday,hours,year attributes\n",
    "#Data type conversion for better analysis\n",
    "del bike_df['dteday']\n",
    "\n",
    "bike_df['season']=bike_df['season'].astype('category')\n",
    "bike_df['yr'] = bike_df['yr'].astype('category')\n",
    "bike_df['mnth']=bike_df['mnth'].astype('category')\n",
    "bike_df['weekday']=bike_df['weekday'].astype('category')\n",
    "bike_df['workingday']=bike_df['workingday'].astype('category')\n",
    "bike_df['weathersit']=bike_df['weathersit'].astype('category')\n",
    "\n",
    "bike_df['cnt']=bike_df['cnt'].astype('float64')\n",
    "\n",
    "bike_df.dtypes"
   ]
  },
  {
   "cell_type": "code",
   "execution_count": 8,
   "metadata": {},
   "outputs": [
    {
     "data": {
      "text/html": [
       "<div>\n",
       "<style scoped>\n",
       "    .dataframe tbody tr th:only-of-type {\n",
       "        vertical-align: middle;\n",
       "    }\n",
       "\n",
       "    .dataframe tbody tr th {\n",
       "        vertical-align: top;\n",
       "    }\n",
       "\n",
       "    .dataframe thead th {\n",
       "        text-align: right;\n",
       "    }\n",
       "</style>\n",
       "<table border=\"1\" class=\"dataframe\">\n",
       "  <thead>\n",
       "    <tr style=\"text-align: right;\">\n",
       "      <th></th>\n",
       "      <th>temp</th>\n",
       "      <th>atemp</th>\n",
       "      <th>hum</th>\n",
       "      <th>windspeed</th>\n",
       "      <th>cnt</th>\n",
       "    </tr>\n",
       "  </thead>\n",
       "  <tbody>\n",
       "    <tr>\n",
       "      <th>count</th>\n",
       "      <td>731.000000</td>\n",
       "      <td>731.000000</td>\n",
       "      <td>731.000000</td>\n",
       "      <td>731.000000</td>\n",
       "      <td>731.000000</td>\n",
       "    </tr>\n",
       "    <tr>\n",
       "      <th>mean</th>\n",
       "      <td>0.495385</td>\n",
       "      <td>0.474354</td>\n",
       "      <td>0.627894</td>\n",
       "      <td>0.190486</td>\n",
       "      <td>4504.348837</td>\n",
       "    </tr>\n",
       "    <tr>\n",
       "      <th>std</th>\n",
       "      <td>0.183051</td>\n",
       "      <td>0.162961</td>\n",
       "      <td>0.142429</td>\n",
       "      <td>0.077498</td>\n",
       "      <td>1937.211452</td>\n",
       "    </tr>\n",
       "    <tr>\n",
       "      <th>min</th>\n",
       "      <td>0.059130</td>\n",
       "      <td>0.079070</td>\n",
       "      <td>0.000000</td>\n",
       "      <td>0.022392</td>\n",
       "      <td>22.000000</td>\n",
       "    </tr>\n",
       "    <tr>\n",
       "      <th>25%</th>\n",
       "      <td>0.337083</td>\n",
       "      <td>0.337842</td>\n",
       "      <td>0.520000</td>\n",
       "      <td>0.134950</td>\n",
       "      <td>3152.000000</td>\n",
       "    </tr>\n",
       "    <tr>\n",
       "      <th>50%</th>\n",
       "      <td>0.498333</td>\n",
       "      <td>0.486733</td>\n",
       "      <td>0.626667</td>\n",
       "      <td>0.180975</td>\n",
       "      <td>4548.000000</td>\n",
       "    </tr>\n",
       "    <tr>\n",
       "      <th>75%</th>\n",
       "      <td>0.655417</td>\n",
       "      <td>0.608602</td>\n",
       "      <td>0.730209</td>\n",
       "      <td>0.233214</td>\n",
       "      <td>5956.000000</td>\n",
       "    </tr>\n",
       "    <tr>\n",
       "      <th>max</th>\n",
       "      <td>0.861667</td>\n",
       "      <td>0.840896</td>\n",
       "      <td>0.972500</td>\n",
       "      <td>0.507463</td>\n",
       "      <td>8714.000000</td>\n",
       "    </tr>\n",
       "  </tbody>\n",
       "</table>\n",
       "</div>"
      ],
      "text/plain": [
       "             temp       atemp         hum   windspeed          cnt\n",
       "count  731.000000  731.000000  731.000000  731.000000   731.000000\n",
       "mean     0.495385    0.474354    0.627894    0.190486  4504.348837\n",
       "std      0.183051    0.162961    0.142429    0.077498  1937.211452\n",
       "min      0.059130    0.079070    0.000000    0.022392    22.000000\n",
       "25%      0.337083    0.337842    0.520000    0.134950  3152.000000\n",
       "50%      0.498333    0.486733    0.626667    0.180975  4548.000000\n",
       "75%      0.655417    0.608602    0.730209    0.233214  5956.000000\n",
       "max      0.861667    0.840896    0.972500    0.507463  8714.000000"
      ]
     },
     "execution_count": 8,
     "metadata": {},
     "output_type": "execute_result"
    }
   ],
   "source": [
    "bike_df.describe()"
   ]
  },
  {
   "cell_type": "code",
   "execution_count": 9,
   "metadata": {},
   "outputs": [],
   "source": [
    "#Converting the normalised values back to original values to understand its distribution\n",
    "bike_df['temp'] = bike_df['temp']*39\n",
    "bike_df['atemp'] = bike_df['atemp']*50\n",
    "bike_df['hum'] = bike_df['hum']*100\n",
    "bike_df['windspeed'] = bike_df['windspeed']*67"
   ]
  },
  {
   "cell_type": "code",
   "execution_count": 10,
   "metadata": {},
   "outputs": [
    {
     "data": {
      "text/plain": [
       "Text(0, 0.5, 'Frequency')"
      ]
     },
     "execution_count": 10,
     "metadata": {},
     "output_type": "execute_result"
    },
    {
     "data": {
      "image/png": "[encoded data removed]",
      "text/plain": [
       "<Figure size 432x288 with 1 Axes>"
      ]
     },
     "metadata": {
      "needs_background": "light"
     },
     "output_type": "display_data"
    }
   ],
   "source": [
    "#Distribution of Temperature\n",
    "plt.hist(bike_df['temp'],bins = 100)\n",
    "plt.xlabel('Temperature')\n",
    "plt.ylabel('Frequency')"
   ]
  },
  {
   "cell_type": "code",
   "execution_count": 11,
   "metadata": {},
   "outputs": [
    {
     "data": {
      "text/plain": [
       "Text(0, 0.5, 'Frequency')"
      ]
     },
     "execution_count": 11,
     "metadata": {},
     "output_type": "execute_result"
    },
    {
     "data": {
      "image/png": "[encoded data removed]",
      "text/plain": [
       "<Figure size 432x288 with 1 Axes>"
      ]
     },
     "metadata": {
      "needs_background": "light"
     },
     "output_type": "display_data"
    }
   ],
   "source": [
    "#Distribution of Humidity\n",
    "plt.hist(bike_df['hum'],bins = 100)\n",
    "plt.xlabel('Humidity')\n",
    "plt.ylabel('Frequency')"
   ]
  },
  {
   "cell_type": "code",
   "execution_count": 12,
   "metadata": {},
   "outputs": [
    {
     "data": {
      "text/plain": [
       "Text(0, 0.5, 'Frequency')"
      ]
     },
     "execution_count": 12,
     "metadata": {},
     "output_type": "execute_result"
    },
    {
     "data": {
      "image/png": "[encoded data removed]",
      "text/plain": [
       "<Figure size 432x288 with 1 Axes>"
      ]
     },
     "metadata": {
      "needs_background": "light"
     },
     "output_type": "display_data"
    }
   ],
   "source": [
    "#Distribution of Windspeed\n",
    "plt.hist(bike_df['windspeed'],bins = 100)\n",
    "plt.xlabel('Windspeed')\n",
    "plt.ylabel('Frequency')"
   ]
  },
  {
   "cell_type": "code",
   "execution_count": 13,
   "metadata": {},
   "outputs": [
    {
     "data": {
      "text/plain": [
       "season        0\n",
       "yr            0\n",
       "mnth          0\n",
       "weekday       0\n",
       "workingday    0\n",
       "weathersit    0\n",
       "temp          0\n",
       "atemp         0\n",
       "hum           0\n",
       "windspeed     0\n",
       "cnt           0\n",
       "dtype: int64"
      ]
     },
     "execution_count": 13,
     "metadata": {},
     "output_type": "execute_result"
    }
   ],
   "source": [
    "#Missing Value Analysis : Data has no missing values\n",
    "bike_df.isnull().sum()"
   ]
  },
  {
   "cell_type": "code",
   "execution_count": 14,
   "metadata": {},
   "outputs": [
    {
     "data": {
      "image/png": "[encoded data removed]",
      "text/plain": [
       "<Figure size 576x576 with 1 Axes>"
      ]
     },
     "metadata": {
      "needs_background": "light"
     },
     "output_type": "display_data"
    }
   ],
   "source": [
    "#Check for outliers in data using boxplot\n",
    "sns.boxplot(data=bike_df[['temp','atemp','windspeed','hum']])\n",
    "fig=plt.gcf()\n",
    "fig.set_size_inches(8,8)"
   ]
  },
  {
   "cell_type": "code",
   "execution_count": 15,
   "metadata": {},
   "outputs": [
    {
     "data": {
      "text/plain": [
       "<matplotlib.axes._subplots.AxesSubplot at 0x1e70de8cba8>"
      ]
     },
     "execution_count": 15,
     "metadata": {},
     "output_type": "execute_result"
    },
    {
     "data": {
      "image/png": "[encoded data removed]",
      "text/plain": [
       "<Figure size 432x288 with 1 Axes>"
      ]
     },
     "metadata": {
      "needs_background": "light"
     },
     "output_type": "display_data"
    }
   ],
   "source": [
    "sns.boxplot(bike_df['cnt'])"
   ]
  },
  {
   "cell_type": "code",
   "execution_count": 16,
   "metadata": {},
   "outputs": [],
   "source": [
    "#since only 2 variables have outliers, so now removing these.\n",
    "num_variables = ['windspeed','hum']\n",
    "for i in num_variables:\n",
    "    q75,q25=np.percentile(bike_df.loc[:,i],[75,25])\n",
    "    iqr=q75-q25\n",
    "    min=q25 -(1.5*iqr)\n",
    "    max=q75 +(1.5*iqr)\n",
    "    \n",
    "    bike_df=bike_df.drop(bike_df[bike_df.loc[:,i]<min].index)\n",
    "    bike_df=bike_df.drop(bike_df[bike_df.loc[:,i]>max].index)"
   ]
  },
  {
   "cell_type": "code",
   "execution_count": 17,
   "metadata": {},
   "outputs": [
    {
     "data": {
      "text/html": [
       "<div>\n",
       "<style scoped>\n",
       "    .dataframe tbody tr th:only-of-type {\n",
       "        vertical-align: middle;\n",
       "    }\n",
       "\n",
       "    .dataframe tbody tr th {\n",
       "        vertical-align: top;\n",
       "    }\n",
       "\n",
       "    .dataframe thead th {\n",
       "        text-align: right;\n",
       "    }\n",
       "</style>\n",
       "<table border=\"1\" class=\"dataframe\">\n",
       "  <thead>\n",
       "    <tr style=\"text-align: right;\">\n",
       "      <th></th>\n",
       "      <th>temp</th>\n",
       "      <th>atemp</th>\n",
       "      <th>hum</th>\n",
       "      <th>windspeed</th>\n",
       "      <th>cnt</th>\n",
       "    </tr>\n",
       "  </thead>\n",
       "  <tbody>\n",
       "    <tr>\n",
       "      <th>count</th>\n",
       "      <td>717.000000</td>\n",
       "      <td>717.000000</td>\n",
       "      <td>717.000000</td>\n",
       "      <td>717.000000</td>\n",
       "      <td>717.000000</td>\n",
       "    </tr>\n",
       "    <tr>\n",
       "      <th>mean</th>\n",
       "      <td>19.397225</td>\n",
       "      <td>23.812596</td>\n",
       "      <td>63.156227</td>\n",
       "      <td>12.481197</td>\n",
       "      <td>4532.843794</td>\n",
       "    </tr>\n",
       "    <tr>\n",
       "      <th>std</th>\n",
       "      <td>7.161050</td>\n",
       "      <td>8.157741</td>\n",
       "      <td>13.922221</td>\n",
       "      <td>4.809648</td>\n",
       "      <td>1933.542429</td>\n",
       "    </tr>\n",
       "    <tr>\n",
       "      <th>min</th>\n",
       "      <td>2.306086</td>\n",
       "      <td>3.953480</td>\n",
       "      <td>25.416700</td>\n",
       "      <td>1.500244</td>\n",
       "      <td>22.000000</td>\n",
       "    </tr>\n",
       "    <tr>\n",
       "      <th>25%</th>\n",
       "      <td>13.162500</td>\n",
       "      <td>16.896950</td>\n",
       "      <td>52.458300</td>\n",
       "      <td>9.000043</td>\n",
       "      <td>3214.000000</td>\n",
       "    </tr>\n",
       "    <tr>\n",
       "      <th>50%</th>\n",
       "      <td>19.727487</td>\n",
       "      <td>24.589150</td>\n",
       "      <td>63.083300</td>\n",
       "      <td>11.959232</td>\n",
       "      <td>4570.000000</td>\n",
       "    </tr>\n",
       "    <tr>\n",
       "      <th>75%</th>\n",
       "      <td>25.610013</td>\n",
       "      <td>30.556050</td>\n",
       "      <td>73.291700</td>\n",
       "      <td>15.458307</td>\n",
       "      <td>6031.000000</td>\n",
       "    </tr>\n",
       "    <tr>\n",
       "      <th>max</th>\n",
       "      <td>33.605013</td>\n",
       "      <td>42.044800</td>\n",
       "      <td>97.250000</td>\n",
       "      <td>25.333236</td>\n",
       "      <td>8714.000000</td>\n",
       "    </tr>\n",
       "  </tbody>\n",
       "</table>\n",
       "</div>"
      ],
      "text/plain": [
       "             temp       atemp         hum   windspeed          cnt\n",
       "count  717.000000  717.000000  717.000000  717.000000   717.000000\n",
       "mean    19.397225   23.812596   63.156227   12.481197  4532.843794\n",
       "std      7.161050    8.157741   13.922221    4.809648  1933.542429\n",
       "min      2.306086    3.953480   25.416700    1.500244    22.000000\n",
       "25%     13.162500   16.896950   52.458300    9.000043  3214.000000\n",
       "50%     19.727487   24.589150   63.083300   11.959232  4570.000000\n",
       "75%     25.610013   30.556050   73.291700   15.458307  6031.000000\n",
       "max     33.605013   42.044800   97.250000   25.333236  8714.000000"
      ]
     },
     "execution_count": 17,
     "metadata": {},
     "output_type": "execute_result"
    }
   ],
   "source": [
    "bike_df.describe()"
   ]
  },
  {
   "cell_type": "code",
   "execution_count": 18,
   "metadata": {},
   "outputs": [
    {
     "data": {
      "text/plain": [
       "<matplotlib.axes._subplots.AxesSubplot at 0x1e70dea1b00>"
      ]
     },
     "execution_count": 18,
     "metadata": {},
     "output_type": "execute_result"
    },
    {
     "data": {
      "image/png": "[encoded data removed]",
      "text/plain": [
       "<Figure size 432x288 with 1 Axes>"
      ]
     },
     "metadata": {
      "needs_background": "light"
     },
     "output_type": "display_data"
    }
   ],
   "source": [
    "#After removing outliers, variable humidity\n",
    "sns.boxplot(bike_df['hum'])"
   ]
  },
  {
   "cell_type": "code",
   "execution_count": 19,
   "metadata": {},
   "outputs": [
    {
     "data": {
      "text/plain": [
       "<matplotlib.axes._subplots.AxesSubplot at 0x1e70df0c1d0>"
      ]
     },
     "execution_count": 19,
     "metadata": {},
     "output_type": "execute_result"
    },
    {
     "data": {
      "image/png": "[encoded data removed]",
      "text/plain": [
       "<Figure size 432x288 with 1 Axes>"
      ]
     },
     "metadata": {
      "needs_background": "light"
     },
     "output_type": "display_data"
    }
   ],
   "source": [
    "#After removing outliers, variable windspeed\n",
    "sns.boxplot(bike_df['windspeed'])"
   ]
  },
  {
   "cell_type": "code",
   "execution_count": 20,
   "metadata": {},
   "outputs": [
    {
     "data": {
      "text/plain": [
       "<matplotlib.axes._subplots.AxesSubplot at 0x1e70df5db70>"
      ]
     },
     "execution_count": 20,
     "metadata": {},
     "output_type": "execute_result"
    },
    {
     "data": {
      "image/png": "[encoded data removed]",
      "text/plain": [
       "<Figure size 504x360 with 2 Axes>"
      ]
     },
     "metadata": {
      "needs_background": "light"
     },
     "output_type": "display_data"
    }
   ],
   "source": [
    "#Feature Selection : remove highly correlated variables\n",
    "#Correlation matrix for continuous variables\n",
    "f, ax=plt.subplots(figsize=(7,5))\n",
    "n_names = ['temp','atemp','hum','windspeed']\n",
    "df = bike_df.loc[:,n_names]\n",
    "sns.heatmap(df.corr(),mask=np.zeros_like(df.corr(),dtype=np.bool),\n",
    "           cmap=sns.diverging_palette(220,10,as_cmap=True),ax=ax,annot = True)"
   ]
  },
  {
   "cell_type": "code",
   "execution_count": 21,
   "metadata": {},
   "outputs": [
    {
     "name": "stdout",
     "output_type": "stream",
     "text": [
      "season\n",
      "0.5545167305842608\n",
      "workingday\n",
      "0.47588540831249254\n",
      "weathersit\n",
      "0.520434698546695\n",
      "yr\n",
      "0.38695146266459124\n",
      "mnth\n",
      "0.4781836629471889\n"
     ]
    }
   ],
   "source": [
    "#chi square test for categorical variable\n",
    "cnames = ['season','workingday','weathersit','yr','mnth']\n",
    "from scipy.stats import chi2_contingency\n",
    "for i in cnames:\n",
    "    print(i)\n",
    "    chi2,p,dof,ex = chi2_contingency(pd.crosstab(bike_df['cnt'],bike_df[i]))\n",
    "    print(p)"
   ]
  },
  {
   "cell_type": "code",
   "execution_count": 22,
   "metadata": {},
   "outputs": [
    {
     "data": {
      "text/plain": [
       "(717, 10)"
      ]
     },
     "execution_count": 22,
     "metadata": {},
     "output_type": "execute_result"
    }
   ],
   "source": [
    "#dropping correlated variable\n",
    "bike_df = bike_df.drop(['atemp'], axis=1)\n",
    "bike_df.shape"
   ]
  },
  {
   "cell_type": "code",
   "execution_count": 23,
   "metadata": {},
   "outputs": [
    {
     "data": {
      "text/plain": [
       "Text(0, 0.5, 'Frequency')"
      ]
     },
     "execution_count": 23,
     "metadata": {},
     "output_type": "execute_result"
    },
    {
     "data": {
      "image/png": "[encoded data removed]",
      "text/plain": [
       "<Figure size 432x288 with 1 Axes>"
      ]
     },
     "metadata": {
      "needs_background": "light"
     },
     "output_type": "display_data"
    }
   ],
   "source": [
    "#Exploratory Data Analysis : distribution of target variable tells us that the values are normally distributed\n",
    "plt.hist(bike_df['cnt'],bins = 100)\n",
    "plt.xlabel('Bike Rentals')\n",
    "plt.ylabel('Frequency')"
   ]
  },
  {
   "cell_type": "code",
   "execution_count": 24,
   "metadata": {},
   "outputs": [
    {
     "data": {
      "text/plain": [
       "<matplotlib.axes._subplots.AxesSubplot at 0x1e70f141ef0>"
      ]
     },
     "execution_count": 24,
     "metadata": {},
     "output_type": "execute_result"
    },
    {
     "data": {
      "image/png": "[encoded data removed]",
      "text/plain": [
       "<Figure size 432x288 with 1 Axes>"
      ]
     },
     "metadata": {
      "needs_background": "light"
     },
     "output_type": "display_data"
    }
   ],
   "source": [
    "#Rental count according to year, 0:2010, 1:2011\n",
    "sns.boxplot(bike_df['yr'],bike_df['cnt'])"
   ]
  },
  {
   "cell_type": "code",
   "execution_count": 25,
   "metadata": {},
   "outputs": [
    {
     "data": {
      "text/plain": [
       "<matplotlib.axes._subplots.AxesSubplot at 0x1e70f471a90>"
      ]
     },
     "execution_count": 25,
     "metadata": {},
     "output_type": "execute_result"
    },
    {
     "data": {
      "image/png": "[encoded data removed]",
      "text/plain": [
       "<Figure size 432x288 with 1 Axes>"
      ]
     },
     "metadata": {
      "needs_background": "light"
     },
     "output_type": "display_data"
    }
   ],
   "source": [
    "#Rental count according to months\n",
    "sns.boxplot(bike_df['mnth'],bike_df['cnt'])"
   ]
  },
  {
   "cell_type": "code",
   "execution_count": 26,
   "metadata": {},
   "outputs": [
    {
     "data": {
      "text/plain": [
       "<matplotlib.axes._subplots.AxesSubplot at 0x1e70f58def0>"
      ]
     },
     "execution_count": 26,
     "metadata": {},
     "output_type": "execute_result"
    },
    {
     "data": {
      "image/png": "[encoded data removed]",
      "text/plain": [
       "<Figure size 432x288 with 1 Axes>"
      ]
     },
     "metadata": {
      "needs_background": "light"
     },
     "output_type": "display_data"
    }
   ],
   "source": [
    "#Rental count according to seasons\n",
    "sns.boxplot(bike_df['season'],bike_df['cnt'])"
   ]
  },
  {
   "cell_type": "code",
   "execution_count": 27,
   "metadata": {},
   "outputs": [
    {
     "data": {
      "text/plain": [
       "<matplotlib.axes._subplots.AxesSubplot at 0x1e70f6109e8>"
      ]
     },
     "execution_count": 27,
     "metadata": {},
     "output_type": "execute_result"
    },
    {
     "data": {
      "image/png": "[encoded data removed]",
      "text/plain": [
       "<Figure size 432x288 with 1 Axes>"
      ]
     },
     "metadata": {
      "needs_background": "light"
     },
     "output_type": "display_data"
    }
   ],
   "source": [
    "#Rental count according to weather\n",
    "sns.boxplot(bike_df['weathersit'],bike_df['cnt'])"
   ]
  },
  {
   "cell_type": "code",
   "execution_count": 28,
   "metadata": {},
   "outputs": [
    {
     "data": {
      "text/plain": [
       "<matplotlib.axes._subplots.AxesSubplot at 0x1e70f68e128>"
      ]
     },
     "execution_count": 28,
     "metadata": {},
     "output_type": "execute_result"
    },
    {
     "data": {
      "image/png": "[encoded data removed]",
      "text/plain": [
       "<Figure size 432x288 with 1 Axes>"
      ]
     },
     "metadata": {
      "needs_background": "light"
     },
     "output_type": "display_data"
    }
   ],
   "source": [
    "#Rental count according to weekday, 0-Sunday,1-Monday,2-Tuesday,3-Wednesday,4-Thursday,5-Friday,6-Saturday\n",
    "sns.boxplot(bike_df['weekday'],bike_df['cnt'])"
   ]
  },
  {
   "cell_type": "code",
   "execution_count": 29,
   "metadata": {},
   "outputs": [
    {
     "data": {
      "text/plain": [
       "<matplotlib.axes._subplots.AxesSubplot at 0x1e70f75a6a0>"
      ]
     },
     "execution_count": 29,
     "metadata": {},
     "output_type": "execute_result"
    },
    {
     "data": {
      "image/png": "[encoded data removed]",
      "text/plain": [
       "<Figure size 432x288 with 1 Axes>"
      ]
     },
     "metadata": {
      "needs_background": "light"
     },
     "output_type": "display_data"
    }
   ],
   "source": [
    "#distribution of temperature vs count, how spread out it is\n",
    "sns.scatterplot(bike_df['temp'],bike_df['cnt'])"
   ]
  },
  {
   "cell_type": "code",
   "execution_count": 30,
   "metadata": {},
   "outputs": [
    {
     "data": {
      "text/plain": [
       "<matplotlib.axes._subplots.AxesSubplot at 0x1e70f683400>"
      ]
     },
     "execution_count": 30,
     "metadata": {},
     "output_type": "execute_result"
    },
    {
     "data": {
      "image/png": "[encoded data removed]",
      "text/plain": [
       "<Figure size 432x288 with 1 Axes>"
      ]
     },
     "metadata": {
      "needs_background": "light"
     },
     "output_type": "display_data"
    }
   ],
   "source": [
    "#distribution between humidity vs count\n",
    "sns.scatterplot(bike_df['hum'],bike_df['cnt'])"
   ]
  },
  {
   "cell_type": "code",
   "execution_count": 31,
   "metadata": {},
   "outputs": [
    {
     "data": {
      "text/plain": [
       "<matplotlib.axes._subplots.AxesSubplot at 0x1e70f80e668>"
      ]
     },
     "execution_count": 31,
     "metadata": {},
     "output_type": "execute_result"
    },
    {
     "data": {
      "image/png": "[encoded data removed]",
      "text/plain": [
       "<Figure size 432x288 with 1 Axes>"
      ]
     },
     "metadata": {
      "needs_background": "light"
     },
     "output_type": "display_data"
    }
   ],
   "source": [
    "#distribution b/w windspeed vs count\n",
    "sns.scatterplot(bike_df['windspeed'],bike_df['cnt'])"
   ]
  },
  {
   "cell_type": "code",
   "execution_count": 32,
   "metadata": {},
   "outputs": [],
   "source": [
    "#Model Building"
   ]
  },
  {
   "cell_type": "code",
   "execution_count": 33,
   "metadata": {},
   "outputs": [],
   "source": [
    "#Train_test Splitting : Simple Random Sampling as we are dealing with continuous variables\n",
    "X = bike_df.iloc[:,:-1].values\n",
    "Y = bike_df.iloc[:,-1].values\n",
    "X_train, X_test, y_train, y_test = train_test_split(X,Y,test_size=0.2,random_state = 0)"
   ]
  },
  {
   "cell_type": "code",
   "execution_count": 34,
   "metadata": {},
   "outputs": [],
   "source": [
    "#Multiple Linear Regression\n",
    "lr_model = sm.OLS(y_train.astype(float), X_train.astype(float)).fit()"
   ]
  },
  {
   "cell_type": "code",
   "execution_count": 35,
   "metadata": {},
   "outputs": [
    {
     "data": {
      "text/html": [
       "<table class=\"simpletable\">\n",
       "<caption>OLS Regression Results</caption>\n",
       "<tr>\n",
       "  <th>Dep. Variable:</th>            <td>y</td>        <th>  R-squared:         </th> <td>   0.965</td>\n",
       "</tr>\n",
       "<tr>\n",
       "  <th>Model:</th>                   <td>OLS</td>       <th>  Adj. R-squared:    </th> <td>   0.964</td>\n",
       "</tr>\n",
       "<tr>\n",
       "  <th>Method:</th>             <td>Least Squares</td>  <th>  F-statistic:       </th> <td>   1729.</td>\n",
       "</tr>\n",
       "<tr>\n",
       "  <th>Date:</th>             <td>Sat, 13 Jul 2019</td> <th>  Prob (F-statistic):</th>  <td>  0.00</td> \n",
       "</tr>\n",
       "<tr>\n",
       "  <th>Time:</th>                 <td>21:53:45</td>     <th>  Log-Likelihood:    </th> <td> -4719.8</td>\n",
       "</tr>\n",
       "<tr>\n",
       "  <th>No. Observations:</th>      <td>   573</td>      <th>  AIC:               </th> <td>   9458.</td>\n",
       "</tr>\n",
       "<tr>\n",
       "  <th>Df Residuals:</th>          <td>   564</td>      <th>  BIC:               </th> <td>   9497.</td>\n",
       "</tr>\n",
       "<tr>\n",
       "  <th>Df Model:</th>              <td>     9</td>      <th>                     </th>     <td> </td>   \n",
       "</tr>\n",
       "<tr>\n",
       "  <th>Covariance Type:</th>      <td>nonrobust</td>    <th>                     </th>     <td> </td>   \n",
       "</tr>\n",
       "</table>\n",
       "<table class=\"simpletable\">\n",
       "<tr>\n",
       "   <td></td>     <th>coef</th>     <th>std err</th>      <th>t</th>      <th>P>|t|</th>  <th>[0.025</th>    <th>0.975]</th>  \n",
       "</tr>\n",
       "<tr>\n",
       "  <th>x1</th> <td>  555.1093</td> <td>   67.319</td> <td>    8.246</td> <td> 0.000</td> <td>  422.882</td> <td>  687.336</td>\n",
       "</tr>\n",
       "<tr>\n",
       "  <th>x2</th> <td> 2117.4483</td> <td>   75.658</td> <td>   27.987</td> <td> 0.000</td> <td> 1968.842</td> <td> 2266.054</td>\n",
       "</tr>\n",
       "<tr>\n",
       "  <th>x3</th> <td>  -40.5851</td> <td>   21.423</td> <td>   -1.894</td> <td> 0.059</td> <td>  -82.663</td> <td>    1.493</td>\n",
       "</tr>\n",
       "<tr>\n",
       "  <th>x4</th> <td>   91.2785</td> <td>   18.717</td> <td>    4.877</td> <td> 0.000</td> <td>   54.515</td> <td>  128.041</td>\n",
       "</tr>\n",
       "<tr>\n",
       "  <th>x5</th> <td>  247.5394</td> <td>   81.398</td> <td>    3.041</td> <td> 0.002</td> <td>   87.659</td> <td>  407.420</td>\n",
       "</tr>\n",
       "<tr>\n",
       "  <th>x6</th> <td> -577.4152</td> <td>   97.362</td> <td>   -5.931</td> <td> 0.000</td> <td> -768.651</td> <td> -386.179</td>\n",
       "</tr>\n",
       "<tr>\n",
       "  <th>x7</th> <td>  140.2593</td> <td>    5.679</td> <td>   24.697</td> <td> 0.000</td> <td>  129.104</td> <td>  151.414</td>\n",
       "</tr>\n",
       "<tr>\n",
       "  <th>x8</th> <td>    1.1039</td> <td>    3.160</td> <td>    0.349</td> <td> 0.727</td> <td>   -5.103</td> <td>    7.310</td>\n",
       "</tr>\n",
       "<tr>\n",
       "  <th>x9</th> <td>  -10.0773</td> <td>    6.804</td> <td>   -1.481</td> <td> 0.139</td> <td>  -23.442</td> <td>    3.287</td>\n",
       "</tr>\n",
       "</table>\n",
       "<table class=\"simpletable\">\n",
       "<tr>\n",
       "  <th>Omnibus:</th>       <td>83.629</td> <th>  Durbin-Watson:     </th> <td>   1.905</td>\n",
       "</tr>\n",
       "<tr>\n",
       "  <th>Prob(Omnibus):</th> <td> 0.000</td> <th>  Jarque-Bera (JB):  </th> <td> 186.716</td>\n",
       "</tr>\n",
       "<tr>\n",
       "  <th>Skew:</th>          <td>-0.792</td> <th>  Prob(JB):          </th> <td>2.85e-41</td>\n",
       "</tr>\n",
       "<tr>\n",
       "  <th>Kurtosis:</th>      <td> 5.304</td> <th>  Cond. No.          </th> <td>    175.</td>\n",
       "</tr>\n",
       "</table><br/><br/>Warnings:<br/>[1] Standard Errors assume that the covariance matrix of the errors is correctly specified."
      ],
      "text/plain": [
       "<class 'statsmodels.iolib.summary.Summary'>\n",
       "\"\"\"\n",
       "                            OLS Regression Results                            \n",
       "==============================================================================\n",
       "Dep. Variable:                      y   R-squared:                       0.965\n",
       "Model:                            OLS   Adj. R-squared:                  0.964\n",
       "Method:                 Least Squares   F-statistic:                     1729.\n",
       "Date:                Sat, 13 Jul 2019   Prob (F-statistic):               0.00\n",
       "Time:                        21:53:45   Log-Likelihood:                -4719.8\n",
       "No. Observations:                 573   AIC:                             9458.\n",
       "Df Residuals:                     564   BIC:                             9497.\n",
       "Df Model:                           9                                         \n",
       "Covariance Type:            nonrobust                                         \n",
       "==============================================================================\n",
       "                 coef    std err          t      P>|t|      [0.025      0.975]\n",
       "------------------------------------------------------------------------------\n",
       "x1           555.1093     67.319      8.246      0.000     422.882     687.336\n",
       "x2          2117.4483     75.658     27.987      0.000    1968.842    2266.054\n",
       "x3           -40.5851     21.423     -1.894      0.059     -82.663       1.493\n",
       "x4            91.2785     18.717      4.877      0.000      54.515     128.041\n",
       "x5           247.5394     81.398      3.041      0.002      87.659     407.420\n",
       "x6          -577.4152     97.362     -5.931      0.000    -768.651    -386.179\n",
       "x7           140.2593      5.679     24.697      0.000     129.104     151.414\n",
       "x8             1.1039      3.160      0.349      0.727      -5.103       7.310\n",
       "x9           -10.0773      6.804     -1.481      0.139     -23.442       3.287\n",
       "==============================================================================\n",
       "Omnibus:                       83.629   Durbin-Watson:                   1.905\n",
       "Prob(Omnibus):                  0.000   Jarque-Bera (JB):              186.716\n",
       "Skew:                          -0.792   Prob(JB):                     2.85e-41\n",
       "Kurtosis:                       5.304   Cond. No.                         175.\n",
       "==============================================================================\n",
       "\n",
       "Warnings:\n",
       "[1] Standard Errors assume that the covariance matrix of the errors is correctly specified.\n",
       "\"\"\""
      ]
     },
     "execution_count": 35,
     "metadata": {},
     "output_type": "execute_result"
    }
   ],
   "source": [
    "lr_model.summary()"
   ]
  },
  {
   "cell_type": "code",
   "execution_count": 36,
   "metadata": {},
   "outputs": [
    {
     "data": {
      "text/plain": [
       "array([2829.7399568250357, 4390.214278887396, 2817.461438748707,\n",
       "       4665.7713956245525, 4484.866445495586, 4735.39552138129,\n",
       "       6823.255407878306, 1197.2145684912648, 3052.8600783038073,\n",
       "       1950.6964453809073, 4483.774691551527, 3812.0877081346994,\n",
       "       2127.368085909863, 7221.373000010756, 6027.321908780569,\n",
       "       1132.1259351342135, 5153.172526554965, 6271.498040352352,\n",
       "       3448.6873012639335, 5606.212918196708, 2956.950000505317,\n",
       "       3508.303162311699, 497.3525687401916, 7049.125730125366,\n",
       "       5066.453657013808, 3791.148948810482, 4608.8369048515315,\n",
       "       1765.8872128163803, 7130.776869469153, 856.065271377381,\n",
       "       3947.7245955030635, 7330.355932091007, 8126.24460820622,\n",
       "       5503.953107697001, 2200.428294185473, 4049.4710873114154,\n",
       "       1256.9917690065172, 3945.2231593439105, 3503.198598230562,\n",
       "       6504.838609940618, 5244.531387638718, 3071.4285745990614,\n",
       "       6270.731881570296, 1929.6239193179324, 6402.801785463613,\n",
       "       7300.078285335952, 4632.758707515647, 6552.824237100084,\n",
       "       5669.901672094824, 4275.551673008725, 5293.720954882385,\n",
       "       4182.283207001308, 2507.6141162362806, 5190.711362831436,\n",
       "       6190.629738494524, 7448.133868500566, 6858.5083807690135,\n",
       "       1444.4933657049762, 7234.3732911349425, 1180.9670720065587,\n",
       "       4999.814765142817, 6378.0241231218315, 4602.497532747313,\n",
       "       1505.473184754165, 5074.021167192991, 5485.136908768706,\n",
       "       5675.838605100269, 7595.067422749769, 4884.721694160633,\n",
       "       1586.7994855621732, 5105.658469161813, 3889.6697758588352,\n",
       "       2692.6996681547694, 7306.328843071759, 4770.503115344886,\n",
       "       8107.367448908033, 6208.043888852696, 1255.0546429301849,\n",
       "       2373.1456700994827, 5616.042555696303, 6377.49932998567,\n",
       "       6049.533825855105, 4655.135956428543, 4527.042560754657,\n",
       "       708.0432780273532, 1833.8780206268898, 5288.481560880638,\n",
       "       2773.9208576911574, 3454.941842416526, 6605.280156497043,\n",
       "       3239.254710589362, 4354.052780142966, 7312.690573840885,\n",
       "       5602.718084092267, 5911.162699847091, 4608.853228557591,\n",
       "       2994.651605789983, 7449.490925997687, 7110.78184969627,\n",
       "       6352.826505564805, 3752.5240834126207, 5710.514633535336,\n",
       "       6822.672940619802, 5410.9238896100305, 4537.999870470692,\n",
       "       928.5873979021187, 4860.085366441734, 7121.616888834534,\n",
       "       7371.990078019123, 5222.2934350230125, 1772.2361967932006,\n",
       "       6202.709683784524, 1350.9892077774227, 4091.4450710803294,\n",
       "       964.2615855773711, 6580.485156918161, 1420.522189866162,\n",
       "       6269.835815043971, 2413.398774433172, 1851.0383515073586,\n",
       "       6964.053591815654, 5392.525843628769, 1456.866747853463,\n",
       "       4005.8155817852494, 5300.434979232272, 5215.061359852191,\n",
       "       6445.666503562718, 4231.712502096346, 5151.136138737836,\n",
       "       4609.080284172117, 3799.574296646486, 4255.1038112339675,\n",
       "       3414.597703737083, 7388.03878692029, 5357.627736130013,\n",
       "       3106.509655808214, 4339.188727350968, 4336.675551743119,\n",
       "       3621.624096843135, 3120.9439369811075, 2492.060217701096,\n",
       "       6079.9688932707795, 4703.520167117583, 3468.3754410634338],\n",
       "      dtype=object)"
      ]
     },
     "execution_count": 36,
     "metadata": {},
     "output_type": "execute_result"
    }
   ],
   "source": [
    "#Predict the results of test data\n",
    "lr_predictions = lr_model.predict(X_test)\n",
    "lr_predictions"
   ]
  },
  {
   "cell_type": "code",
   "execution_count": 37,
   "metadata": {},
   "outputs": [],
   "source": [
    "def MAPE(y_actual,y_pred):\n",
    "    mape = np.mean(np.abs((y_actual - y_pred)/y_actual))\n",
    "    return mape"
   ]
  },
  {
   "cell_type": "code",
   "execution_count": 38,
   "metadata": {},
   "outputs": [
    {
     "data": {
      "text/plain": [
       "19.189884133419714"
      ]
     },
     "execution_count": 38,
     "metadata": {},
     "output_type": "execute_result"
    }
   ],
   "source": [
    "MAPE(y_test,lr_predictions)*100"
   ]
  },
  {
   "cell_type": "code",
   "execution_count": 39,
   "metadata": {},
   "outputs": [
    {
     "data": {
      "text/plain": [
       "80.82"
      ]
     },
     "execution_count": 39,
     "metadata": {},
     "output_type": "execute_result"
    }
   ],
   "source": [
    "100 - 19.18\n",
    "#accuracy : 80.82"
   ]
  },
  {
   "cell_type": "code",
   "execution_count": 40,
   "metadata": {},
   "outputs": [
    {
     "data": {
      "text/plain": [
       "array([3487.23913043, 4674.48275862, 2424.        , 4674.48275862,\n",
       "       4883.19047619, 5698.5       , 7704.92      , 1728.12121212,\n",
       "       2602.66666667, 2647.6       , 4674.48275862, 4674.48275862,\n",
       "       1728.12121212, 6736.53012048, 5971.14285714, 1249.52      ,\n",
       "       4674.48275862, 6736.53012048, 3487.23913043, 5971.14285714,\n",
       "       3332.14285714, 2424.        , 1249.52      , 6736.53012048,\n",
       "       6736.53012048, 3936.34375   , 3978.5       , 1728.12121212,\n",
       "       6736.53012048, 1728.12121212, 3487.23913043, 6736.53012048,\n",
       "       6736.53012048, 5971.14285714, 1728.12121212, 4674.48275862,\n",
       "       1249.52      , 3936.34375   , 3219.58333333, 7001.7       ,\n",
       "       4674.48275862, 2679.5       , 6736.53012048, 2647.6       ,\n",
       "       6060.78571429, 6736.53012048, 4674.48275862, 6736.53012048,\n",
       "       5698.5       , 4674.48275862, 4883.19047619, 4674.48275862,\n",
       "       2602.66666667, 4674.48275862, 7001.7       , 6736.53012048,\n",
       "       7099.5       , 1728.12121212, 6736.53012048, 1249.52      ,\n",
       "       4674.48275862, 6736.53012048, 4674.48275862, 1728.12121212,\n",
       "       4883.19047619, 4674.48275862, 5698.5       , 6736.53012048,\n",
       "       4674.48275862, 1728.12121212, 4674.48275862, 4674.48275862,\n",
       "       1178.5       , 6736.53012048, 4674.48275862, 6736.53012048,\n",
       "       6736.53012048, 1728.12121212, 3487.23913043, 6736.53012048,\n",
       "       5971.14285714, 6060.78571429, 4674.48275862, 3936.34375   ,\n",
       "       1249.52      , 1728.12121212, 4676.33333333, 3936.34375   ,\n",
       "       4674.48275862, 6736.53012048, 4674.48275862, 4674.48275862,\n",
       "       6736.53012048, 5971.14285714, 4883.19047619, 4883.19047619,\n",
       "       3487.23913043, 6736.53012048, 7704.92      , 6736.53012048,\n",
       "       3332.14285714, 6736.53012048, 6736.53012048, 6060.78571429,\n",
       "       4674.48275862, 1728.12121212, 4674.48275862, 6736.53012048,\n",
       "       6736.53012048, 4674.48275862, 1728.12121212, 6736.53012048,\n",
       "       1728.12121212, 3219.58333333, 1728.12121212, 6736.53012048,\n",
       "       1249.52      , 7704.92      , 2647.6       , 1728.12121212,\n",
       "       6736.53012048, 5971.14285714, 1728.12121212, 4674.48275862,\n",
       "       4674.48275862, 4676.33333333, 6736.53012048, 3936.34375   ,\n",
       "       4883.19047619, 3978.5       , 4674.48275862, 4674.48275862,\n",
       "       3487.23913043, 6736.53012048, 6736.53012048, 3487.23913043,\n",
       "       4674.48275862, 3936.34375   , 2600.        , 3487.23913043,\n",
       "       2647.6       , 6736.53012048, 4883.19047619, 3487.23913043])"
      ]
     },
     "execution_count": 40,
     "metadata": {},
     "output_type": "execute_result"
    }
   ],
   "source": [
    "#Decision Tree\n",
    "train,test = train_test_split(bike_df,test_size = 0.2,random_state=0)\n",
    "fit = DecisionTreeRegressor(max_depth=5).fit(train.iloc[:,:-1],train.iloc[:,-1])\n",
    "predictions_DT = fit.predict(test.iloc[:,:-1])\n",
    "predictions_DT"
   ]
  },
  {
   "cell_type": "code",
   "execution_count": 41,
   "metadata": {},
   "outputs": [
    {
     "name": "stdout",
     "output_type": "stream",
     "text": [
      "R square value for Decision Tree is:  0.8685151464793568\n",
      "MAPE value for Decision Tree is: 0.18126859697229977\n"
     ]
    }
   ],
   "source": [
    "print('R square value for Decision Tree is: ',metrics.r2_score(y_test,predictions_DT))\n",
    "print('MAPE value for Decision Tree is:', MAPE(y_test,predictions_DT))"
   ]
  },
  {
   "cell_type": "code",
   "execution_count": 42,
   "metadata": {},
   "outputs": [
    {
     "data": {
      "text/plain": [
       "81.88"
      ]
     },
     "execution_count": 42,
     "metadata": {},
     "output_type": "execute_result"
    }
   ],
   "source": [
    "100 - 18.12\n",
    "#Accuracy : 81.53"
   ]
  },
  {
   "cell_type": "code",
   "execution_count": 43,
   "metadata": {},
   "outputs": [],
   "source": [
    "# Random Forest\n",
    "rf_model = RandomForestRegressor(n_estimators=500,random_state=0).fit(train.iloc[:,:-1], train.iloc[:,-1])"
   ]
  },
  {
   "cell_type": "code",
   "execution_count": 44,
   "metadata": {},
   "outputs": [
    {
     "data": {
      "text/plain": [
       "array([0.06342371, 0.28443656, 0.03587565, 0.01527715, 0.00485423,\n",
       "       0.01896193, 0.46807001, 0.06915639, 0.03994435])"
      ]
     },
     "execution_count": 44,
     "metadata": {},
     "output_type": "execute_result"
    }
   ],
   "source": [
    "rf_model.feature_importances_"
   ]
  },
  {
   "cell_type": "code",
   "execution_count": 45,
   "metadata": {},
   "outputs": [
    {
     "data": {
      "text/plain": [
       "array([2810.604, 4910.396, 2762.368, 4922.24 , 5518.898, 5256.516,\n",
       "       7606.54 , 1546.9  , 2524.882, 2170.168, 4094.236, 4155.118,\n",
       "       1940.092, 7430.672, 6711.04 , 1356.868, 4387.496, 7253.516,\n",
       "       3706.51 , 5788.782, 3491.852, 2717.264, 1044.858, 7445.204,\n",
       "       6170.256, 3245.156, 4091.916, 1900.556, 6965.914, 1100.942,\n",
       "       3997.628, 7062.312, 5869.456, 6131.076, 2500.546, 4681.46 ,\n",
       "       1450.3  , 3892.352, 2641.25 , 7145.376, 4569.602, 2638.278,\n",
       "       7431.406, 2010.388, 6818.474, 6901.206, 4137.108, 7181.872,\n",
       "       6067.684, 4287.062, 5171.058, 3778.526, 2946.552, 5031.36 ,\n",
       "       7344.568, 7400.98 , 6455.956, 2178.82 , 6995.352,  818.824,\n",
       "       4732.572, 6442.038, 4861.7  , 1634.616, 5283.262, 4644.06 ,\n",
       "       6143.936, 7242.246, 5049.344, 1891.48 , 5318.18 , 4022.878,\n",
       "       2115.836, 7333.742, 4950.26 , 6045.258, 6910.554, 1559.54 ,\n",
       "       2795.19 , 6847.174, 6728.906, 5839.336, 4653.528, 4003.176,\n",
       "        872.826, 2179.376, 5046.706, 3255.066, 4714.136, 6312.928,\n",
       "       5167.922, 4247.57 , 7505.64 , 5577.214, 5530.042, 4012.966,\n",
       "       3495.614, 7080.54 , 7694.194, 7516.746, 4117.274, 6524.392,\n",
       "       6658.012, 5884.314, 4775.206, 1619.324, 4705.13 , 6858.95 ,\n",
       "       7515.892, 4485.962, 1884.094, 7206.024, 1749.912, 3423.496,\n",
       "       1827.63 , 6736.302, 1412.414, 6953.974, 2478.068, 2263.53 ,\n",
       "       6508.438, 4480.29 , 1747.04 , 4279.182, 4766.508, 5100.486,\n",
       "       6795.24 , 4178.716, 4461.098, 4003.01 , 3754.544, 4461.848,\n",
       "       3511.728, 6754.168, 6067.596, 3445.828, 4596.006, 4189.056,\n",
       "       2913.376, 3472.104, 2630.014, 7333.426, 4200.562, 3661.578])"
      ]
     },
     "execution_count": 45,
     "metadata": {},
     "output_type": "execute_result"
    }
   ],
   "source": [
    "rf_predictions = rf_model.predict(test.iloc[:,:-1])\n",
    "rf_predictions"
   ]
  },
  {
   "cell_type": "code",
   "execution_count": 46,
   "metadata": {},
   "outputs": [
    {
     "name": "stdout",
     "output_type": "stream",
     "text": [
      "R square value for Random Forest is:  0.9219681181377206\n",
      "MAPE value for Random Forest is: 0.15131122128769842\n"
     ]
    }
   ],
   "source": [
    "print('R square value for Random Forest is: ',metrics.r2_score(y_test,rf_predictions))\n",
    "print('MAPE value for Random Forest is:', MAPE(y_test,rf_predictions))"
   ]
  },
  {
   "cell_type": "code",
   "execution_count": 47,
   "metadata": {},
   "outputs": [
    {
     "data": {
      "text/plain": [
       "84.87"
      ]
     },
     "execution_count": 47,
     "metadata": {},
     "output_type": "execute_result"
    }
   ],
   "source": [
    "100 - 15.13\n",
    "#Accuracy : 84.87"
   ]
  },
  {
   "cell_type": "code",
   "execution_count": 48,
   "metadata": {},
   "outputs": [],
   "source": [
    "#Conclusion\n",
    "#Best model : Multiple Linear Regression as Rsquare is the highest means the predictors explain the target variable quite well \n",
    "#and the accuracy is also decent 80.82%"
   ]
  }
 ],
 "metadata": {
  "kernelspec": {
   "display_name": "Python 3",
   "language": "python",
   "name": "python3"
  },
  "language_info": {
   "codemirror_mode": {
    "name": "ipython",
    "version": 3
   },
   "file_extension": ".py",
   "mimetype": "text/x-python",
   "name": "python",
   "nbconvert_exporter": "python",
   "pygments_lexer": "ipython3",
   "version": "3.7.3"
  }
 },
 "nbformat": 4,
 "nbformat_minor": 2
}
